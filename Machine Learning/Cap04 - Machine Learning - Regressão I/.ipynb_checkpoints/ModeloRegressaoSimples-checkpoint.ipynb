{
 "cells": [
  {
   "cell_type": "code",
   "execution_count": 1,
   "metadata": {},
   "outputs": [],
   "source": [
    "#Modelo Simples de Regressão"
   ]
  },
  {
   "cell_type": "code",
   "execution_count": 2,
   "metadata": {},
   "outputs": [],
   "source": [
    "import pandas as pd\n",
    "import statsmodels.formula.api as smf"
   ]
  },
  {
   "cell_type": "code",
   "execution_count": 3,
   "metadata": {},
   "outputs": [],
   "source": [
    "#Carregando o dataset\n",
    "df = pd.read_csv('dados/pesos.csv')"
   ]
  },
  {
   "cell_type": "code",
   "execution_count": 4,
   "metadata": {},
   "outputs": [
    {
     "name": "stdout",
     "output_type": "stream",
     "text": [
      "    Idade  Peso\n",
      "0       0  3.44\n",
      "1       1  4.39\n",
      "2       2  4.49\n",
      "3       3  4.78\n",
      "4       4  5.23\n",
      "5       5  6.00\n",
      "6       6  6.18\n",
      "7       7  7.03\n",
      "8       8  7.18\n",
      "9       9  7.50\n",
      "10     10  8.59\n",
      "11     11  8.99\n",
      "12     12  9.54\n"
     ]
    }
   ],
   "source": [
    "#Visualizando o dataset\n",
    "print(df)"
   ]
  },
  {
   "cell_type": "code",
   "execution_count": 5,
   "metadata": {},
   "outputs": [
    {
     "name": "stdout",
     "output_type": "stream",
     "text": [
      "                            OLS Regression Results                            \n",
      "==============================================================================\n",
      "Dep. Variable:                   Peso   R-squared:                       0.986\n",
      "Model:                            OLS   Adj. R-squared:                  0.985\n",
      "Method:                 Least Squares   F-statistic:                     774.9\n",
      "Date:                Mon, 28 Dec 2020   Prob (F-statistic):           1.50e-11\n",
      "Time:                        15:49:47   Log-Likelihood:                 1.3432\n",
      "No. Observations:                  13   AIC:                             1.314\n",
      "Df Residuals:                      11   BIC:                             2.444\n",
      "Df Model:                           1                                         \n",
      "Covariance Type:            nonrobust                                         \n",
      "==============================================================================\n",
      "                 coef    std err          t      P>|t|      [0.025      0.975]\n",
      "------------------------------------------------------------------------------\n",
      "Intercept      3.4737      0.124     27.937      0.000       3.200       3.747\n",
      "Idade          0.4895      0.018     27.837      0.000       0.451       0.528\n",
      "==============================================================================\n",
      "Omnibus:                        0.138   Durbin-Watson:                   1.980\n",
      "Prob(Omnibus):                  0.933   Jarque-Bera (JB):                0.349\n",
      "Skew:                           0.089   Prob(JB):                        0.840\n",
      "Kurtosis:                       2.218   Cond. No.                         13.6\n",
      "==============================================================================\n",
      "\n",
      "Warnings:\n",
      "[1] Standard Errors assume that the covariance matrix of the errors is correctly specified.\n"
     ]
    },
    {
     "name": "stderr",
     "output_type": "stream",
     "text": [
      "C:\\ProgramData\\Anaconda3\\lib\\site-packages\\scipy\\stats\\stats.py:1416: UserWarning: kurtosistest only valid for n>=20 ... continuing anyway, n=13\n",
      "  \"anyway, n=%i\" % int(n))\n"
     ]
    }
   ],
   "source": [
    "#Criando o modelo de regressão\n",
    "estimativa = smf.ols(formula = 'Peso ~ Idade', data = df)\n",
    "\n",
    "#Treinando o modelo\n",
    "modelo = estimativa.fit()\n",
    "\n",
    "#Imprimindo resumo do modelo\n",
    "print(modelo.summary())"
   ]
  }
 ],
 "metadata": {
  "kernelspec": {
   "display_name": "Python 3",
   "language": "python",
   "name": "python3"
  },
  "language_info": {
   "codemirror_mode": {
    "name": "ipython",
    "version": 3
   },
   "file_extension": ".py",
   "mimetype": "text/x-python",
   "name": "python",
   "nbconvert_exporter": "python",
   "pygments_lexer": "ipython3",
   "version": "3.7.3"
  }
 },
 "nbformat": 4,
 "nbformat_minor": 2
}
